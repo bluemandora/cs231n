{
 "cells": [
  {
   "cell_type": "code",
   "execution_count": 2,
   "metadata": {
    "collapsed": false
   },
   "outputs": [],
   "source": [
    "import re\n",
    "import requests\n",
    "\n",
    "query = 'building'\n",
    "\n",
    "session = requests.session()\n",
    "params = {'tn':'resultjson_com', 'ipn':'rj', 'fp':'result', 'queryWord':query, 'word':query, 'pn':30, 'rn':30}\n",
    "r = session.get('http://image.baidu.com/search/acjson', params = params)\n"
   ]
  },
  {
   "cell_type": "code",
   "execution_count": 12,
   "metadata": {
    "collapsed": false
   },
   "outputs": [
    {
     "name": "stdout",
     "output_type": "stream",
     "text": [
      "http://img2.imgtn.bdimg.com/it/u=957514061,3433523614&fm=214&gp=0.jpg\n",
      "http://img2.imgtn.bdimg.com/it/u=2133786539,2613298352&fm=214&gp=0.jpg\n",
      "http://img1.imgtn.bdimg.com/it/u=88162497,2193284359&fm=214&gp=0.jpg\n",
      "http://img2.imgtn.bdimg.com/it/u=3249535017,710851135&fm=214&gp=0.jpg\n",
      "http://img1.imgtn.bdimg.com/it/u=4235565083,542159878&fm=214&gp=0.jpg\n",
      "http://img1.imgtn.bdimg.com/it/u=527138833,3030553673&fm=214&gp=0.jpg\n",
      "http://img1.imgtn.bdimg.com/it/u=3819124255,1964728760&fm=214&gp=0.jpg\n",
      "http://img3.imgtn.bdimg.com/it/u=3243231563,370896935&fm=214&gp=0.jpg\n",
      "http://img1.imgtn.bdimg.com/it/u=2039062319,2662277264&fm=214&gp=0.jpg\n",
      "http://img3.imgtn.bdimg.com/it/u=163150655,3812083353&fm=214&gp=0.jpg\n",
      "http://img1.imgtn.bdimg.com/it/u=4254004741,2410704336&fm=214&gp=0.jpg\n",
      "http://img4.imgtn.bdimg.com/it/u=534235829,3126691366&fm=214&gp=0.jpg\n",
      "http://img1.imgtn.bdimg.com/it/u=3795429855,3731504527&fm=214&gp=0.jpg\n",
      "http://img0.imgtn.bdimg.com/it/u=4278596501,1013326836&fm=214&gp=0.jpg\n",
      "http://img3.imgtn.bdimg.com/it/u=1058876204,2404993924&fm=214&gp=0.jpg\n",
      "http://img2.imgtn.bdimg.com/it/u=1849791895,3169673468&fm=214&gp=0.jpg\n",
      "http://img3.imgtn.bdimg.com/it/u=2431439928,3958901899&fm=214&gp=0.jpg\n",
      "http://img0.imgtn.bdimg.com/it/u=3522353204,1735679895&fm=214&gp=0.jpg\n",
      "http://img0.imgtn.bdimg.com/it/u=4210992941,4097789852&fm=214&gp=0.jpg\n",
      "http://img4.imgtn.bdimg.com/it/u=1049171763,2961872088&fm=214&gp=0.jpg\n",
      "http://img1.imgtn.bdimg.com/it/u=4037973162,3328707346&fm=214&gp=0.jpg\n",
      "http://img0.imgtn.bdimg.com/it/u=3919306589,1508522559&fm=214&gp=0.jpg\n",
      "http://img3.imgtn.bdimg.com/it/u=1985660190,253277963&fm=214&gp=0.jpg\n",
      "http://img4.imgtn.bdimg.com/it/u=2431295720,3199199075&fm=214&gp=0.jpg\n",
      "http://img3.imgtn.bdimg.com/it/u=196050988,2379196812&fm=214&gp=0.jpg\n",
      "http://img0.imgtn.bdimg.com/it/u=4048558659,3878362375&fm=214&gp=0.jpg\n",
      "http://img3.imgtn.bdimg.com/it/u=1733295617,1557924496&fm=214&gp=0.jpg\n",
      "http://img1.imgtn.bdimg.com/it/u=1957000229,1741119684&fm=214&gp=0.jpg\n",
      "http://img0.imgtn.bdimg.com/it/u=4007718204,3064497409&fm=214&gp=0.jpg\n",
      "http://img1.imgtn.bdimg.com/it/u=2379809723,4174269813&fm=214&gp=0.jpg\n"
     ]
    }
   ],
   "source": [
    "pics = r.json()['data']\n",
    "for pic in pics[:-1]:\n",
    "    if 'replaceUrl' not in pic:\n",
    "        print pic\n",
    "        continue\n",
    "    objurl = pic['replaceUrl'][0]['ObjURL']\n",
    "    print objurl"
   ]
  },
  {
   "cell_type": "code",
   "execution_count": 25,
   "metadata": {
    "collapsed": false
   },
   "outputs": [
    {
     "name": "stdout",
     "output_type": "stream",
     "text": [
      "200\n"
     ]
    }
   ],
   "source": [
    "header = {'Referer': 'http://image.baidu.com/search/index?tn=baiduimage&ct=201326592&fmq=1496540975930_R&ctd=1496540975931%5E00_1903X959&word=building'}\n",
    "r = requests.get('http://img5.imgtn.bdimg.com/it/u=4216712669,2989609786&fm=11&gp=0.jpg', headers = header)\n",
    "print r.status_code\n",
    "if r.status_code == 200:\n",
    "    open('logo.jpg', 'wb').write(r.content)"
   ]
  }
 ],
 "metadata": {
  "kernelspec": {
   "display_name": "Python 2",
   "language": "python",
   "name": "python2"
  },
  "language_info": {
   "codemirror_mode": {
    "name": "ipython",
    "version": 2
   },
   "file_extension": ".py",
   "mimetype": "text/x-python",
   "name": "python",
   "nbconvert_exporter": "python",
   "pygments_lexer": "ipython2",
   "version": "2.7.11"
  }
 },
 "nbformat": 4,
 "nbformat_minor": 0
}
