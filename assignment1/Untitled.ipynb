{
 "cells": [
  {
   "cell_type": "code",
   "execution_count": 237,
   "metadata": {
    "collapsed": true
   },
   "outputs": [],
   "source": [
    "import re\n",
    "import requests\n",
    "import cookielib\n",
    "from bs4 import BeautifulSoup\n",
    "\n",
    "\n",
    "session = requests.session()\n",
    "r = session.get('http://www.eomf.ou.edu/photos/clusters.kml?bbox=-272.58203125,-110.9825683914,270.58203124999,112.1074894953')\n",
    "\n",
    "soup = BeautifulSoup(r.text, 'lxml')"
   ]
  },
  {
   "cell_type": "code",
   "execution_count": 238,
   "metadata": {
    "collapsed": false
   },
   "outputs": [],
   "source": [
    "clusters = []\n",
    "for cluster in soup.find_all('placemark'):\n",
    "    tmp_dict = {}\n",
    "    for data in cluster.extendeddata.find_all('data'):\n",
    "        key = data['name']\n",
    "        value = float(data.value.string) if '.' in data.value.string else int(data.value.string)\n",
    "        tmp_dict[key] = value\n",
    "    clusters.append(tmp_dict)\n"
   ]
  },
  {
   "cell_type": "code",
   "execution_count": null,
   "metadata": {
    "collapsed": false
   },
   "outputs": [
    {
     "name": "stdout",
     "output_type": "stream",
     "text": [
      "<Response [200]> http://www.eomf.ou.edu/photos/photos.html?ids=8596&x_size=10.863281&y_size=7.242187&page=1&ppp=192\n",
      "8596\n",
      "8597\n",
      "8598\n",
      "8599\n",
      "8600\n",
      "8601\n",
      "8602\n",
      "8603\n",
      "8604\n",
      "8605\n",
      "8606\n",
      "8607\n",
      "8608\n",
      "8609\n",
      "8610\n",
      "8611"
     ]
    }
   ],
   "source": [
    "from math import ceil\n",
    "for c in clusters:\n",
    "    for index in range(1, int(ceil(c['count'] / 192.0)) + 1):\n",
    "        r = session.get('http://www.eomf.ou.edu/photos/photos.html?ids={}&x_size={}&y_size={}&page={}&ppp=192'\\\n",
    "                        .format(c['ids'], c['x_size'], c['y_size'], index))\n",
    "        print r, r.url\n",
    "        if r.status_code != 200:\n",
    "            continue\n",
    "        soup = BeautifulSoup(r.text, 'lxml')\n",
    "        body = soup.html.body.contents[2]\n",
    "        ids = []\n",
    "        token = body.find(\"input\", {\"name\":\"csrfmiddlewaretoken\"})[\"value\"]\n",
    "        for pic in body.find_all(\"div\", class_=\"photo-tile\"):\n",
    "            parameters = {\"ids\": pic.input['id'], \"selector\": \"Off\", \"format\": \"csv\", \"img\": \"big\", \"csrfmiddlewaretoken\": token}\n",
    "            print parameters[\"ids\"]\n",
    "            headers = {'Content-Type': 'application/x-www-form-urlencoded'}\n",
    "            r = session.post(\"http://www.eomf.ou.edu/photos/download/\", data = parameters, headers=headers, stream=True)\n",
    "            if r.status_code != 200:\n",
    "                continue\n",
    "            z = zipfile.ZipFile(StringIO.StringIO(r.content))\n",
    "            z.extractall(\"E://EOMF//\"+ pic.input['id'] + \"//\")\n",
    "        "
   ]
  },
  {
   "cell_type": "code",
   "execution_count": 222,
   "metadata": {
    "collapsed": false
   },
   "outputs": [],
   "source": [
    "with open(\"F://1.zip\", 'wb') as f:\n",
    "    f.write(r.conte)\n",
    "# import zipfile, StringIO\n",
    "# z = zipfile.ZipFile(StringIO.StringIO(r.content))\n",
    "# z.extractall(\"F://1//\")"
   ]
  }
 ],
 "metadata": {
  "kernelspec": {
   "display_name": "Python 2",
   "language": "python",
   "name": "python2"
  },
  "language_info": {
   "codemirror_mode": {
    "name": "ipython",
    "version": 2
   },
   "file_extension": ".py",
   "mimetype": "text/x-python",
   "name": "python",
   "nbconvert_exporter": "python",
   "pygments_lexer": "ipython2",
   "version": "2.7.11"
  }
 },
 "nbformat": 4,
 "nbformat_minor": 0
}
